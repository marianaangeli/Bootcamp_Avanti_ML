{
  "nbformat": 4,
  "nbformat_minor": 0,
  "metadata": {
    "colab": {
      "provenance": [],
      "collapsed_sections": [
        "sGogDNsm8zo5",
        "GfVdOGJh_Bg9",
        "yEq8U9pv_ntA",
        "FVhc6-ErAYeE",
        "qa1EMw-GA3jU"
      ],
      "authorship_tag": "ABX9TyPQRIBqUa+WwKk1g8vAkCf6",
      "include_colab_link": true
    },
    "kernelspec": {
      "name": "python3",
      "display_name": "Python 3"
    },
    "language_info": {
      "name": "python"
    }
  },
  "cells": [
    {
      "cell_type": "markdown",
      "metadata": {
        "id": "view-in-github",
        "colab_type": "text"
      },
      "source": [
        "<a href=\"https://colab.research.google.com/github/marianaangeli/Bootcamp_Avanti_ML/blob/main/Atividade02_ML.ipynb\" target=\"_parent\"><img src=\"https://colab.research.google.com/assets/colab-badge.svg\" alt=\"Open In Colab\"/></a>"
      ]
    },
    {
      "cell_type": "markdown",
      "source": [
        "##### Escreva uma função que receba uma lista de números e retorne outra lista com os números ímpares."
      ],
      "metadata": {
        "id": "sGogDNsm8zo5"
      }
    },
    {
      "cell_type": "code",
      "execution_count": 1,
      "metadata": {
        "id": "auwGKUhR8cYh"
      },
      "outputs": [],
      "source": [
        "def filtrar_impares(lista):\n",
        "    return [numero for numero in lista if numero % 2 != 0]"
      ]
    },
    {
      "cell_type": "code",
      "source": [
        "# Versão interativa\n",
        "def filtrar_impares(lista):\n",
        "    return [numero for numero in lista if numero % 2 != 0]\n",
        "\n",
        "# Interação com o usuário\n",
        "entrada = input(\"Digite uma lista de números separados por vírgula: \")\n",
        "\n",
        "# Converter a entrada em uma lista de inteiros\n",
        "numeros = [int(x.strip()) for x in entrada.split(\",\")]\n",
        "\n",
        "# Chamar a função e exibir o resultado\n",
        "impares = filtrar_impares(numeros)\n",
        "print(\"Números ímpares:\", impares)"
      ],
      "metadata": {
        "colab": {
          "base_uri": "https://localhost:8080/"
        },
        "id": "8dk9LHZ389tG",
        "outputId": "7e4d4a8c-49a1-44d4-e8d7-c57293c356af"
      },
      "execution_count": 3,
      "outputs": [
        {
          "output_type": "stream",
          "name": "stdout",
          "text": [
            "Digite uma lista de números separados por vírgula: 4, 5, 10, 7, 9, 2, 4, 20, 3, 1, 2, 6, 8\n",
            "Números ímpares: [5, 7, 9, 3, 1]\n"
          ]
        }
      ]
    },
    {
      "cell_type": "markdown",
      "source": [
        "##### Escreva uma função que receba uma lista de números e retorne outra lista com os números primos presentes."
      ],
      "metadata": {
        "id": "_U3CvRly9r17"
      }
    },
    {
      "cell_type": "code",
      "source": [
        "# Verificar números primos\n",
        "def num_primos(n):\n",
        "    if n < 2:\n",
        "        return False\n",
        "    for i in range(2, int(n**0.5) + 1):\n",
        "        if n % i == 0:\n",
        "            return False\n",
        "    return True"
      ],
      "metadata": {
        "id": "Eh0VeBcc9zEi"
      },
      "execution_count": 5,
      "outputs": []
    },
    {
      "cell_type": "code",
      "source": [
        "# Filtrar números primos\n",
        "def filtrar_primos(lista):\n",
        "    return [numero for numero in lista if num_primos(numero)]"
      ],
      "metadata": {
        "id": "-QhGhufs-Iuu"
      },
      "execution_count": 6,
      "outputs": []
    },
    {
      "cell_type": "code",
      "source": [
        "# Versão interativa\n",
        "entrada = input(\"Digite uma lista de números separados por vírgula: \")\n",
        "\n",
        "# Converter a entrada em uma lista de inteiros\n",
        "numeros = [int(x.strip()) for x in entrada.split(\",\")]\n",
        "\n",
        "# Filtrar os números primos\n",
        "primos = filtrar_primos(numeros)\n",
        "\n",
        "print(\"Números primos:\", primos)"
      ],
      "metadata": {
        "colab": {
          "base_uri": "https://localhost:8080/"
        },
        "id": "OzszYv6H-Qbh",
        "outputId": "25d9b7c3-6342-4ec9-a6b5-c1165914082f"
      },
      "execution_count": 7,
      "outputs": [
        {
          "output_type": "stream",
          "name": "stdout",
          "text": [
            "Digite uma lista de números separados por vírgula: 1, 3, 5, 67, 8, 3, 34, 7, 90, 111\n",
            "Números primos: [3, 5, 67, 3, 7]\n"
          ]
        }
      ]
    },
    {
      "cell_type": "markdown",
      "source": [
        "##### Escreva uma função que receba duas listas e retorne outra lista com os  elementos que estão presentes em apenas uma das listas."
      ],
      "metadata": {
        "id": "GfVdOGJh_Bg9"
      }
    },
    {
      "cell_type": "code",
      "source": [
        "def elementos_unicos(lista1, lista2):\n",
        "    return list(set(lista1) ^ set(lista2))"
      ],
      "metadata": {
        "id": "hWd6kULS_O0l"
      },
      "execution_count": 8,
      "outputs": []
    },
    {
      "cell_type": "code",
      "source": [
        "# Versão Interativa\n",
        "entrada1 = input(\"Digite os elementos da primeira lista (separados por vírgula): \")\n",
        "entrada2 = input(\"Digite os elementos da segunda lista (separados por vírgula): \")\n",
        "\n",
        "# Converter as entradas em listas de inteiros\n",
        "lista1 = [int(x.strip()) for x in entrada1.split(\",\")]\n",
        "lista2 = [int(x.strip()) for x in entrada2.split(\",\")]\n",
        "\n",
        "# Chamar a função\n",
        "resultado = elementos_unicos(lista1, lista2)\n",
        "\n",
        "print(\"Elementos presentes em apenas uma das listas:\", resultado)"
      ],
      "metadata": {
        "colab": {
          "base_uri": "https://localhost:8080/"
        },
        "id": "N-t6om2X_Rb6",
        "outputId": "409d21a9-3f36-4c0a-a2ef-57350aab6f38"
      },
      "execution_count": 9,
      "outputs": [
        {
          "output_type": "stream",
          "name": "stdout",
          "text": [
            "Digite os elementos da primeira lista (separados por vírgula): 1, 2, 3, 4, 5, 6, 7, 8\n",
            "Digite os elementos da segunda lista (separados por vírgula): 2, 4, 6, 8, 10\n",
            "Elementos presentes em apenas uma das listas: [1, 3, 5, 7, 10]\n"
          ]
        }
      ]
    },
    {
      "cell_type": "markdown",
      "source": [
        "#####Dada uma lista de números inteiros, escreva uma função para encontrar o segundo maior valor na lista."
      ],
      "metadata": {
        "id": "yEq8U9pv_ntA"
      }
    },
    {
      "cell_type": "code",
      "source": [
        "def segundo_maior(lista):\n",
        "    if len(lista) < 2:\n",
        "        return None  # Não há segundo maior se a lista tiver menos de 2 elementos\n",
        "    lista_unica = list(set(lista))  # Remove duplicatas\n",
        "    lista_unica.sort(reverse=True)  # Ordena do maior para o menor\n",
        "    return lista_unica[1]  # Retorna o segundo maior"
      ],
      "metadata": {
        "id": "P_LxURS-_ogh"
      },
      "execution_count": 10,
      "outputs": []
    },
    {
      "cell_type": "code",
      "source": [
        "# Versão Interativa\n",
        "entrada = input(\"Digite uma lista de números inteiros separados por vírgula: \")\n",
        "numeros = [int(x.strip()) for x in entrada.split(\",\")]\n",
        "\n",
        "resultado = segundo_maior(numeros)\n",
        "\n",
        "if resultado is not None:\n",
        "    print(\"O segundo maior valor é:\", resultado)\n",
        "else:\n",
        "    print(\"A lista precisa ter pelo menos dois valores diferentes.\")"
      ],
      "metadata": {
        "colab": {
          "base_uri": "https://localhost:8080/"
        },
        "id": "3ne1v2TY_xOe",
        "outputId": "f3446d5e-da98-4314-bc58-32d27363db5f"
      },
      "execution_count": 13,
      "outputs": [
        {
          "output_type": "stream",
          "name": "stdout",
          "text": [
            "Digite uma lista de números inteiros separados por vírgula: 25, 25, 2, 3, 4, 3, 21\n",
            "O segundo maior valor é: 21\n"
          ]
        }
      ]
    },
    {
      "cell_type": "markdown",
      "source": [
        "#####Crie uma função que receba uma lista de tuplas, cada uma contendo o nome e a idade de uma pessoa, e retorne a lista ordenada pelo nome das pessoas em ordem alfabética."
      ],
      "metadata": {
        "id": "FVhc6-ErAYeE"
      }
    },
    {
      "cell_type": "code",
      "source": [
        "def ordenar_por_nome(lista_pessoas):\n",
        "    return sorted(lista_pessoas, key=lambda pessoa: pessoa[0].lower())"
      ],
      "metadata": {
        "id": "yWOWGg1QAeJZ"
      },
      "execution_count": 14,
      "outputs": []
    },
    {
      "cell_type": "code",
      "source": [
        "# Versão Interativa\n",
        "quantidade = int(input(\"Quantas pessoas você quer cadastrar? \"))\n",
        "pessoas = []\n",
        "\n",
        "for _ in range(quantidade):\n",
        "    nome = input(\"Digite o nome: \")\n",
        "    idade = int(input(\"Digite a idade: \"))\n",
        "    pessoas.append((nome, idade))\n",
        "\n",
        "# Ordenar e exibir o resultado\n",
        "pessoas_ordenadas = ordenar_por_nome(pessoas)\n",
        "print(\"\\nLista ordenada por nome:\")\n",
        "for nome, idade in pessoas_ordenadas:\n",
        "    print(f\"{nome} - {idade} anos\")"
      ],
      "metadata": {
        "colab": {
          "base_uri": "https://localhost:8080/"
        },
        "id": "ZG0VwCcwAjx9",
        "outputId": "50c95cb3-ceb9-4285-c26b-654e8440e75b"
      },
      "execution_count": 15,
      "outputs": [
        {
          "output_type": "stream",
          "name": "stdout",
          "text": [
            "Quantas pessoas você quer cadastrar? 4\n",
            "Digite o nome: juliana\n",
            "Digite a idade: 4\n",
            "Digite o nome: Pedro\n",
            "Digite a idade: 5\n",
            "Digite o nome: Bruno\n",
            "Digite a idade: 22\n",
            "Digite o nome: Gabriela\n",
            "Digite a idade: 11\n",
            "\n",
            "Lista ordenada por nome:\n",
            "Bruno - 22 anos\n",
            "Gabriela - 11 anos\n",
            "juliana - 4 anos\n",
            "Pedro - 5 anos\n"
          ]
        }
      ]
    },
    {
      "cell_type": "markdown",
      "source": [
        "#####Como identificar e tratar outliers em uma coluna numérica usando desvio padrão ou quartis?"
      ],
      "metadata": {
        "id": "qa1EMw-GA3jU"
      }
    },
    {
      "cell_type": "markdown",
      "source": [
        "**Usando Desvio Padrão**\n",
        "- Assume que os dados seguem uma distribuição aproximadamente normal.\n",
        "- Um valor é considerado outlier se estiver fora da faixa:\n",
        "μ±k⋅σ   \n",
        "Onde:\n",
        "μ = média\n",
        "σ = desvio padrão\n",
        "k costuma ser 2 ou 3 (ex: ±3σ cobre ~99,7% dos dados).\n",
        "\n",
        "Pontos de atenção:  \n",
        "- O desvio padrão não é muito bom quando há poucos dados ou outliers que afetam a média.  \n",
        "- O método IQR pode mais confiável em casos como esse.  \n",
        "- É sempre importante considerar o contexto."
      ],
      "metadata": {
        "id": "aoeYBEMQDKOX"
      }
    },
    {
      "cell_type": "code",
      "source": [
        "import numpy as np\n",
        "\n",
        "# Dados com um outlier claro: 50\n",
        "dados = [10, 12, 11, 13, 12, 11, 14, 50]\n",
        "\n",
        "# Calcular média e desvio padrão\n",
        "media = np.mean(dados)\n",
        "desvio = np.std(dados)\n",
        "\n",
        "# Definir limites usando 2 desvios padrão\n",
        "limite_inferior = media - 2 * desvio\n",
        "limite_superior = media + 2 * desvio\n",
        "\n",
        "# Identificar valores fora dos limites\n",
        "outliers = [x for x in dados if x < limite_inferior or x > limite_superior]\n",
        "\n",
        "print(f\"Média: {media:.2f}, Desvio Padrão: {desvio:.2f}\")\n",
        "print(f\"Limites para outliers: [{limite_inferior:.2f}, {limite_superior:.2f}]\")\n",
        "print(\"Outliers detectados:\", outliers)"
      ],
      "metadata": {
        "colab": {
          "base_uri": "https://localhost:8080/"
        },
        "id": "ukZvBWMnDx7C",
        "outputId": "a9067712-7c60-4072-a0a9-65fb63e37f0b"
      },
      "execution_count": 20,
      "outputs": [
        {
          "output_type": "stream",
          "name": "stdout",
          "text": [
            "Média: 16.62, Desvio Padrão: 12.67\n",
            "Limites para outliers: [-8.71, 41.96]\n",
            "Outliers detectados: [50]\n"
          ]
        }
      ]
    },
    {
      "cell_type": "markdown",
      "source": [
        "**Usando Quartis**  \n",
        "Baseado na dispersão dos dados via IQR:   \n",
        "IQR = Q3 - Q1   \n",
        "limite_inferior = Q1 - 1.5 * IQR   \n",
        "limite_superior = Q3 + 1.5 * IQR   \n",
        "\n"
      ],
      "metadata": {
        "id": "6x2Xl13ZFuw9"
      }
    },
    {
      "cell_type": "code",
      "source": [
        "import numpy as np\n",
        "\n",
        "dados = [1.55, 1.60, 1.62, 1.58, 1.90, 3.00]\n",
        "\n",
        "q1 = np.percentile(dados, 25)\n",
        "q3 = np.percentile(dados, 75)\n",
        "iqr = q3 - q1\n",
        "\n",
        "limite_inferior = q1 - 1.5 * iqr\n",
        "limite_superior = q3 + 1.5 * iqr\n",
        "\n",
        "outliers = [x for x in dados if x < limite_inferior or x > limite_superior]\n",
        "\n",
        "print(\"Outliers (IQR):\", outliers)\n"
      ],
      "metadata": {
        "colab": {
          "base_uri": "https://localhost:8080/"
        },
        "id": "Jwyj0_hiGTAG",
        "outputId": "bebf62ee-02f8-4844-9bac-5f6f64314930"
      },
      "execution_count": 21,
      "outputs": [
        {
          "output_type": "stream",
          "name": "stdout",
          "text": [
            "Outliers (IQR): [3.0]\n"
          ]
        }
      ]
    },
    {
      "cell_type": "markdown",
      "source": [
        "É interessante notar, que esse mesmo outlier não foi detectado com o método do desvio padrão, como podemos ver a seguir:"
      ],
      "metadata": {
        "id": "F8enEZbIGgfc"
      }
    },
    {
      "cell_type": "code",
      "source": [
        "import numpy as np\n",
        "\n",
        "dados = [1.55, 1.60, 1.62, 1.58, 1.90, 3.00]\n",
        "\n",
        "media = np.mean(dados)\n",
        "desvio = np.std(dados)\n",
        "\n",
        "limite_inferior = media - 3 * desvio\n",
        "limite_superior = media + 3 * desvio\n",
        "\n",
        "outliers = [x for x in dados if x < limite_inferior or x > limite_superior]\n",
        "\n",
        "print(\"Outliers (desvio padrão):\", outliers)"
      ],
      "metadata": {
        "colab": {
          "base_uri": "https://localhost:8080/"
        },
        "id": "RJVx9jauGspS",
        "outputId": "8af8367f-8ae8-4904-cf2c-99fc1fdcdbdf"
      },
      "execution_count": 22,
      "outputs": [
        {
          "output_type": "stream",
          "name": "stdout",
          "text": [
            "Outliers (desvio padrão): []\n"
          ]
        }
      ]
    },
    {
      "cell_type": "markdown",
      "source": [
        "**Por que 3.00 não foi considerado outlier pelo desvio padrão?**   \n",
        "O método de desvio padrão considera valores extremos apenas se estiverem muito longe da média (mais de 3 desvios). Porém, como essa é uma amostra pequena, e o valor 3.00 aumenta bastante a média e o desvio, ele puxa os limites para cima, e acaba \"se protegendo de si mesmo\". Por isso nesse caso, seria mais interessante utilizar o método dos quartis, pois ele é mais robusto a outliers por não depender da média ou desvio, e sim da posição relativa dos dados."
      ],
      "metadata": {
        "id": "UeUOnVtAGzf7"
      }
    },
    {
      "cell_type": "markdown",
      "source": [
        "**Mas devo remover os outliers?**    \n",
        "Depende do contexto!!!!!  \n",
        "Eu utilizei dados pensando na altura de pessoas pra trazer essa reflexão.   \n",
        "✅ Quando manter outliers:  \n",
        "Dados extremos, mas possíveis.  \n",
        "Ex: uma pessoa com 1.90m numa população com média 1.60m — pode ser rara, mas real.  \n",
        "Manter ajuda a representar a diversidade real.  \n",
        "❌ Quando remover outliers:  \n",
        "Valores impossíveis ou incorretos (erros de digitação, sensores, etc.).\n",
        "Ex: altura de 3.00m ou -2.00m.  \n",
        "Nestes casos, os dados comprometem a análise e devem ser removidos ou corrigidos.   "
      ],
      "metadata": {
        "id": "_ig5GhgoHcnE"
      }
    },
    {
      "cell_type": "markdown",
      "source": [
        "Isso também se aplica na escolha da utilização entre média e mediana. Em dados com outliers possíveis e reais, a mediana pode ser uma medida melhor para resumo e análise.\n",
        "Porém, a média ainda é útil para dados simétricos e sem outliers significativos. No final das contas, é de extrema importância entender o contexto dos dados para que a escolha do método estatístico seja feita da melhor maneira."
      ],
      "metadata": {
        "id": "uOCsNaSzIjvD"
      }
    },
    {
      "cell_type": "markdown",
      "source": [
        "#####Como concatenar vários DataFrames (empilhando linhas ou colunas), mesmo que tenham colunas diferentes?"
      ],
      "metadata": {
        "id": "kTaBt8-fJFHl"
      }
    },
    {
      "cell_type": "markdown",
      "source": [
        "**O método principal é o pd.concat().**    \n",
        "- Para empilhar linhas (um DataFrame embaixo do outro), use axis=0 (padrão).  \n",
        "- Para empilhar colunas (um DataFrame ao lado do outro), use axis=1.  \n",
        "Quando os DataFrames têm colunas diferentes:  \n",
        "- As colunas ausentes em cada DataFrame serão preenchidas com NaN.   "
      ],
      "metadata": {
        "id": "jt7SiBW9JRnw"
      }
    },
    {
      "cell_type": "code",
      "source": [
        "# Exemplo empilhando linhas (axis=0):\n",
        "import pandas as pd\n",
        "\n",
        "df1 = pd.DataFrame({'A': [1, 2], 'B': [3, 4]})\n",
        "df2 = pd.DataFrame({'B': [5, 6], 'C': [7, 8]})\n",
        "\n",
        "resultado = pd.concat([df1, df2], axis=0, ignore_index=True)\n",
        "\n",
        "print(resultado)"
      ],
      "metadata": {
        "colab": {
          "base_uri": "https://localhost:8080/"
        },
        "id": "jaNdvMNWJI2y",
        "outputId": "209d7d78-03bb-4962-b35b-83b7e483b24f"
      },
      "execution_count": 23,
      "outputs": [
        {
          "output_type": "stream",
          "name": "stdout",
          "text": [
            "     A  B    C\n",
            "0  1.0  3  NaN\n",
            "1  2.0  4  NaN\n",
            "2  NaN  5  7.0\n",
            "3  NaN  6  8.0\n"
          ]
        }
      ]
    },
    {
      "cell_type": "code",
      "source": [
        "# Exemplo empilhando colunas (axis=1):\n",
        "resultado = pd.concat([df1, df2], axis=1)\n",
        "print(resultado)"
      ],
      "metadata": {
        "colab": {
          "base_uri": "https://localhost:8080/"
        },
        "id": "pBUlqyptJ405",
        "outputId": "5673528a-a0e0-476b-bbab-46fa06f1d3ce"
      },
      "execution_count": 25,
      "outputs": [
        {
          "output_type": "stream",
          "name": "stdout",
          "text": [
            "   A  B  B  C\n",
            "0  1  3  5  7\n",
            "1  2  4  6  8\n"
          ]
        }
      ]
    },
    {
      "cell_type": "markdown",
      "source": [
        "Importante:   \n",
        "- ignore_index=True no concat ajuda a resetar o índice quando empilha linhas.\n",
        "- Colunas que não aparecem em todos os DataFrames são preenchidas com NaN automaticamente.\n",
        "\n"
      ],
      "metadata": {
        "id": "-83XYRNSKDJv"
      }
    },
    {
      "cell_type": "code",
      "source": [],
      "metadata": {
        "id": "F2iEngtRJ8Xm"
      },
      "execution_count": null,
      "outputs": []
    },
    {
      "cell_type": "markdown",
      "source": [
        "#####Utilizando pandas, como realizar a leitura de um arquivo CSV em um  DataFrame e exibir as primeiras linhas?"
      ],
      "metadata": {
        "id": "4t5Hzz8DKRRd"
      }
    },
    {
      "cell_type": "code",
      "source": [
        "'''import pandas as pd\n",
        "\n",
        "# Leitura do arquivo CSV (substitua 'arquivo.csv' pelo caminho do seu arquivo)\n",
        "df = pd.read_csv('arquivo.csv')\n",
        "\n",
        "# Exibe as primeiras 5 linhas do DataFrame\n",
        "print(df.head()) '''"
      ],
      "metadata": {
        "colab": {
          "base_uri": "https://localhost:8080/",
          "height": 54
        },
        "id": "fMl2tbubKXT_",
        "outputId": "a0d792b1-3dbe-4843-f9a0-8665f74dc50c"
      },
      "execution_count": 27,
      "outputs": [
        {
          "output_type": "execute_result",
          "data": {
            "text/plain": [
              "\"import pandas as pd\\n\\n# Leitura do arquivo CSV (substitua 'arquivo.csv' pelo caminho do seu arquivo)\\ndf = pd.read_csv('arquivo.csv')\\n\\n# Exibe as primeiras 5 linhas do DataFrame\\nprint(df.head()) \""
            ],
            "application/vnd.google.colaboratory.intrinsic+json": {
              "type": "string"
            }
          },
          "metadata": {},
          "execution_count": 27
        }
      ]
    },
    {
      "cell_type": "markdown",
      "source": [
        "#####Utilizando pandas, como selecionar uma coluna específica e filtrar linhas  em um “DataFrame” com base em uma condição?"
      ],
      "metadata": {
        "id": "aX_kyvR-K2F0"
      }
    },
    {
      "cell_type": "markdown",
      "source": [
        "- Selecionar uma coluna usando df['coluna']\n",
        "\n",
        "- Filtrar linhas usando uma condição booleana, como df[df['coluna'] > valor]"
      ],
      "metadata": {
        "id": "Lz6z6VaRLf-6"
      }
    },
    {
      "cell_type": "code",
      "source": [
        "# Exemplo prático\n",
        "import pandas as pd\n",
        "\n",
        "# Criando um DataFrame de exemplo\n",
        "df = pd.DataFrame({\n",
        "    'nome': ['Ana', 'Bruno', 'Carla', 'Diego'],\n",
        "    'idade': [22, 35, 19, 40]\n",
        "})\n",
        "\n",
        "# Selecionar apenas a coluna 'idade'\n",
        "coluna_idade = df['idade']\n",
        "\n",
        "# Filtrar as linhas onde a idade é maior que 30\n",
        "filtro = df[df['idade'] > 30]\n",
        "\n",
        "# Mostrar os resultados\n",
        "print(\"Coluna idade:\")\n",
        "print(coluna_idade)\n",
        "\n",
        "print(\"\\nPessoas com idade > 30:\")\n",
        "print(filtro)"
      ],
      "metadata": {
        "colab": {
          "base_uri": "https://localhost:8080/"
        },
        "id": "9Dq3rm0IKu_I",
        "outputId": "0fc41eb4-5850-424d-cb73-0917a23044f3"
      },
      "execution_count": 28,
      "outputs": [
        {
          "output_type": "stream",
          "name": "stdout",
          "text": [
            "Coluna idade:\n",
            "0    22\n",
            "1    35\n",
            "2    19\n",
            "3    40\n",
            "Name: idade, dtype: int64\n",
            "\n",
            "Pessoas com idade > 30:\n",
            "    nome  idade\n",
            "1  Bruno     35\n",
            "3  Diego     40\n"
          ]
        }
      ]
    },
    {
      "cell_type": "markdown",
      "source": [
        "#####  Utilizando pandas, como lidar com valores ausentes (NaN) em um DataFrame?"
      ],
      "metadata": {
        "id": "Rp-Ks8S3MWyS"
      }
    },
    {
      "cell_type": "markdown",
      "source": [
        "**O tratamento de NaN também depende do contexto!!!**  \n",
        "- Se a ausência de dado comprometer a análise, é melhor preencher.\n",
        "- Se a linha for inutilizável, pode remover.\n",
        "- Sempre analisar a proporção e impacto dos dados faltantes!\n",
        "\n",
        "**Quando precisar preencher:**  \n",
        "- Para dados numéricos:   \n",
        "Usar uma medida estatística representativa, como:  \n",
        "Média → se os dados forem simétricos e não tiverem outliers.  \n",
        "Mediana → se houver outliers ou distribuição assimétrica.    \n",
        "Moda → se os valores se repetem muito.   \n",
        "Interpolação → para séries temporais   \n",
        "\n",
        "\n",
        "- Para dados categóricos (texto):\n",
        "Usar algo como:\n",
        "Moda → a categoria mais comum.  \n",
        "Categoria padrão → ex: 'indefinido', 'não informado', 'desconhecido', etc.   \n",
        "Inferência contextual (se possível) → ex: preencher com base em outro campo (cidade, estado, etc.)."
      ],
      "metadata": {
        "id": "DcwIBwiTMlt6"
      }
    },
    {
      "cell_type": "code",
      "source": [
        "'''# Detectar valores ausentes\n",
        "df.isnull()         # Mostra True onde há NaN\n",
        "df.isnull().sum()   # Conta quantos NaN há por coluna'''\n"
      ],
      "metadata": {
        "colab": {
          "base_uri": "https://localhost:8080/",
          "height": 36
        },
        "id": "lyYQw8C9OUHF",
        "outputId": "48c0f0b2-c48a-4eb3-effc-7d5451c824d0"
      },
      "execution_count": 32,
      "outputs": [
        {
          "output_type": "execute_result",
          "data": {
            "text/plain": [
              "'# Detectar valores ausentes\\ndf.isnull()         # Mostra True onde há NaN\\ndf.isnull().sum()   # Conta quantos NaN há por coluna'"
            ],
            "application/vnd.google.colaboratory.intrinsic+json": {
              "type": "string"
            }
          },
          "metadata": {},
          "execution_count": 32
        }
      ]
    },
    {
      "cell_type": "code",
      "source": [
        "'''# Remover valores ausentes\n",
        "df.dropna()              # Remove linhas com qualquer NaN\n",
        "df.dropna(axis=1)        # Remove colunas com qualquer NaN'''"
      ],
      "metadata": {
        "colab": {
          "base_uri": "https://localhost:8080/",
          "height": 36
        },
        "id": "AVTku9MIMYpu",
        "outputId": "2cb73f63-dce9-45cc-b6de-4b6dc43ecd2f"
      },
      "execution_count": 33,
      "outputs": [
        {
          "output_type": "execute_result",
          "data": {
            "text/plain": [
              "'# Remover valores ausentes\\ndf.dropna()              # Remove linhas com qualquer NaN\\ndf.dropna(axis=1)        # Remove colunas com qualquer NaN'"
            ],
            "application/vnd.google.colaboratory.intrinsic+json": {
              "type": "string"
            }
          },
          "metadata": {},
          "execution_count": 33
        }
      ]
    },
    {
      "cell_type": "code",
      "source": [
        "'''# Preencher valores ausentes\n",
        "df.fillna(0)                     # Substitui NaN por 0\n",
        "df.fillna(df['coluna'].mean())  # Substitui NaN pela média da coluna\n",
        "df.fillna(method='ffill')       # Preenche com valor anterior (forward fill)\n",
        "df.fillna(method='bfill')       # Preenche com valor seguinte (backward fill)\n",
        "df['estado_civil'] = df['estado_civil'].fillna('indefinido')'''"
      ],
      "metadata": {
        "colab": {
          "base_uri": "https://localhost:8080/",
          "height": 72
        },
        "id": "pVdUW7tdOg-k",
        "outputId": "d7a6901a-f041-41f8-c91d-e571cf8352c2"
      },
      "execution_count": 36,
      "outputs": [
        {
          "output_type": "execute_result",
          "data": {
            "text/plain": [
              "\"# Preencher valores ausentes\\ndf.fillna(0)                     # Substitui NaN por 0\\ndf.fillna(df['coluna'].mean())  # Substitui NaN pela média da coluna\\ndf.fillna(method='ffill')       # Preenche com valor anterior (forward fill)\\ndf.fillna(method='bfill')       # Preenche com valor seguinte (backward fill)\\ndf['estado_civil'] = df['estado_civil'].fillna('indefinido')\""
            ],
            "application/vnd.google.colaboratory.intrinsic+json": {
              "type": "string"
            }
          },
          "metadata": {},
          "execution_count": 36
        }
      ]
    },
    {
      "cell_type": "markdown",
      "source": [
        "**Consideração final:**   \n",
        "Sempre analise quantos e onde estão os NaNs, e se faz sentido preencher.\n",
        "Em alguns casos, o melhor é manter como NaN, especialmente se você quiser modelar ou analisar os dados ausentes."
      ],
      "metadata": {
        "id": "rn24azr3PYQX"
      }
    },
    {
      "cell_type": "code",
      "source": [],
      "metadata": {
        "id": "15cMI4FUPihe"
      },
      "execution_count": null,
      "outputs": []
    }
  ]
}